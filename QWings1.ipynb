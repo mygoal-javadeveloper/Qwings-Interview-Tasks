{
  "nbformat": 4,
  "nbformat_minor": 0,
  "metadata": {
    "colab": {
      "name": "QWings1.ipynb",
      "provenance": [],
      "collapsed_sections": [],
      "authorship_tag": "ABX9TyNQq+EdPQKe5+OSwNG0JGrk",
      "include_colab_link": true
    },
    "kernelspec": {
      "name": "python3",
      "display_name": "Python 3"
    }
  },
  "cells": [
    {
      "cell_type": "markdown",
      "metadata": {
        "id": "view-in-github",
        "colab_type": "text"
      },
      "source": [
        "<a href=\"https://colab.research.google.com/github/mygoal-javadeveloper/Qwings-Interview-Tasks/blob/main/QWings1.ipynb\" target=\"_parent\"><img src=\"https://colab.research.google.com/assets/colab-badge.svg\" alt=\"Open In Colab\"/></a>"
      ]
    },
    {
      "cell_type": "markdown",
      "metadata": {
        "id": "FmczGf9DQE9m"
      },
      "source": [
        "# Name: Nisrin Dhoondia\n",
        "\n",
        "## GitHub: https://github.com/mygoal-javadeveloper\n",
        "\n",
        "## Kaggle: https://www.kaggle.com/nisrindhoondia\n",
        "\n",
        "## My Portfolio (Github and others): https://linktr.ee/nisrindhoondia"
      ]
    },
    {
      "cell_type": "markdown",
      "metadata": {
        "id": "g3FRdjRbOgMk"
      },
      "source": [
        "# Q.2- If x=[1,2,3,4,5,6,7,8,9,10] and y=[5,10,15,20,25,30,35,40,45,50], write a python program to divide this in training and test data (assume 20% of total data will be pushed for test data)\n",
        "\n",
        "## Case-1: Solve the above problem using train_test_split inbuilt function\n",
        "\n",
        "## Case-2: Solve the above problem without using any inbuilt function"
      ]
    },
    {
      "cell_type": "code",
      "metadata": {
        "id": "peLtQnydKFWu"
      },
      "source": [
        "x=[1,2,3,4,5,6,7,8,9,10]\n",
        "y=[5,10,15,20,25,30,35,40,45,50]"
      ],
      "execution_count": null,
      "outputs": []
    },
    {
      "cell_type": "markdown",
      "metadata": {
        "id": "wSMdCZ00RjDJ"
      },
      "source": [
        "# Case-1: Solve the above problem using train_test_split inbuilt function"
      ]
    },
    {
      "cell_type": "code",
      "metadata": {
        "id": "25D0yNibOrPD"
      },
      "source": [
        "from sklearn.model_selection import train_test_split "
      ],
      "execution_count": null,
      "outputs": []
    },
    {
      "cell_type": "code",
      "metadata": {
        "id": "q6yx4GJ2RUKa"
      },
      "source": [
        "X_train, X_test, y_train, y_test = train_test_split(x, y, test_size=0.20, random_state= 47)"
      ],
      "execution_count": null,
      "outputs": []
    },
    {
      "cell_type": "code",
      "metadata": {
        "colab": {
          "base_uri": "https://localhost:8080/"
        },
        "id": "sCsC11bLR_Ly",
        "outputId": "6b545861-9bdd-41c1-aacb-80d8704c24a3"
      },
      "source": [
        "X_train"
      ],
      "execution_count": null,
      "outputs": [
        {
          "output_type": "execute_result",
          "data": {
            "text/plain": [
              "[5, 6, 4, 9, 1, 10, 7, 8]"
            ]
          },
          "metadata": {
            "tags": []
          },
          "execution_count": 4
        }
      ]
    },
    {
      "cell_type": "code",
      "metadata": {
        "id": "fV38s9JBSe_W",
        "colab": {
          "base_uri": "https://localhost:8080/"
        },
        "outputId": "17aa05e4-1839-4932-8b07-99a564e8b4d4"
      },
      "source": [
        "y_train"
      ],
      "execution_count": null,
      "outputs": [
        {
          "output_type": "execute_result",
          "data": {
            "text/plain": [
              "[25, 30, 20, 45, 5, 50, 35, 40]"
            ]
          },
          "metadata": {
            "tags": []
          },
          "execution_count": 5
        }
      ]
    },
    {
      "cell_type": "code",
      "metadata": {
        "colab": {
          "base_uri": "https://localhost:8080/"
        },
        "id": "vEMZJqk0SIG8",
        "outputId": "9373a037-0e35-4747-ee19-c77c035c171a"
      },
      "source": [
        "X_test"
      ],
      "execution_count": null,
      "outputs": [
        {
          "output_type": "execute_result",
          "data": {
            "text/plain": [
              "[3, 2]"
            ]
          },
          "metadata": {
            "tags": []
          },
          "execution_count": 6
        }
      ]
    },
    {
      "cell_type": "code",
      "metadata": {
        "colab": {
          "base_uri": "https://localhost:8080/"
        },
        "id": "cEDNhRymSYZe",
        "outputId": "944b0670-3667-4807-a935-b39d538f8645"
      },
      "source": [
        "y_test"
      ],
      "execution_count": null,
      "outputs": [
        {
          "output_type": "execute_result",
          "data": {
            "text/plain": [
              "[15, 10]"
            ]
          },
          "metadata": {
            "tags": []
          },
          "execution_count": 7
        }
      ]
    },
    {
      "cell_type": "markdown",
      "metadata": {
        "id": "wLvKnqD_Shx3"
      },
      "source": [
        "# Case-2: Solve the above problem without using any inbuilt function"
      ]
    },
    {
      "cell_type": "code",
      "metadata": {
        "id": "r_3SrqTL7NV6"
      },
      "source": [
        "x=[1,2,3,4,5,6,7,8,9,10]\n",
        "y=[5,10,15,20,25,30,35,40,45,50]"
      ],
      "execution_count": null,
      "outputs": []
    },
    {
      "cell_type": "code",
      "metadata": {
        "id": "4i8IW1hJVHsi"
      },
      "source": [
        "import random \n",
        "z = list(zip(x, y)) \n",
        "random.shuffle(z) \n",
        "x, y = zip(*z)"
      ],
      "execution_count": null,
      "outputs": []
    },
    {
      "cell_type": "code",
      "metadata": {
        "colab": {
          "base_uri": "https://localhost:8080/"
        },
        "id": "2RHNM2kS52D7",
        "outputId": "d382006a-f943-4591-8561-310265b58db8"
      },
      "source": [
        "X_train_split = x[:8]\n",
        "X_train_split"
      ],
      "execution_count": null,
      "outputs": [
        {
          "output_type": "execute_result",
          "data": {
            "text/plain": [
              "(4, 6, 10, 8, 5, 1, 3, 7)"
            ]
          },
          "metadata": {
            "tags": []
          },
          "execution_count": 10
        }
      ]
    },
    {
      "cell_type": "code",
      "metadata": {
        "id": "s2xdR7Qu6XKL",
        "colab": {
          "base_uri": "https://localhost:8080/"
        },
        "outputId": "8b114523-9d9d-453e-9815-5843e62d90ac"
      },
      "source": [
        "y_train_split = y[:8]\n",
        "y_train_split"
      ],
      "execution_count": null,
      "outputs": [
        {
          "output_type": "execute_result",
          "data": {
            "text/plain": [
              "(20, 30, 50, 40, 25, 5, 15, 35)"
            ]
          },
          "metadata": {
            "tags": []
          },
          "execution_count": 11
        }
      ]
    },
    {
      "cell_type": "code",
      "metadata": {
        "colab": {
          "base_uri": "https://localhost:8080/"
        },
        "id": "DBfpVHOc8Jjg",
        "outputId": "9bf3c440-4124-4487-b779-cb411ba5303e"
      },
      "source": [
        "X_test_split = x[8:]\n",
        "X_test_split"
      ],
      "execution_count": null,
      "outputs": [
        {
          "output_type": "execute_result",
          "data": {
            "text/plain": [
              "(2, 9)"
            ]
          },
          "metadata": {
            "tags": []
          },
          "execution_count": 12
        }
      ]
    },
    {
      "cell_type": "code",
      "metadata": {
        "colab": {
          "base_uri": "https://localhost:8080/"
        },
        "id": "iZ2mCu1j8JL7",
        "outputId": "f508d4f0-0943-45ab-fe84-5495afebc94d"
      },
      "source": [
        "y_test_split = y[8:]\n",
        "y_test_split"
      ],
      "execution_count": null,
      "outputs": [
        {
          "output_type": "execute_result",
          "data": {
            "text/plain": [
              "(10, 45)"
            ]
          },
          "metadata": {
            "tags": []
          },
          "execution_count": 13
        }
      ]
    }
  ]
}