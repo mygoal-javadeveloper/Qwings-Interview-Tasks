{
  "nbformat": 4,
  "nbformat_minor": 0,
  "metadata": {
    "colab": {
      "name": "QWings2.ipynb",
      "provenance": [],
      "collapsed_sections": [],
      "authorship_tag": "ABX9TyPMNY3mBDM5JpPbZx9Wnlq1",
      "include_colab_link": true
    },
    "kernelspec": {
      "name": "python3",
      "display_name": "Python 3"
    }
  },
  "cells": [
    {
      "cell_type": "markdown",
      "metadata": {
        "id": "view-in-github",
        "colab_type": "text"
      },
      "source": [
        "<a href=\"https://colab.research.google.com/github/mygoal-javadeveloper/Qwings-Interview-Tasks/blob/main/QWings2.ipynb\" target=\"_parent\"><img src=\"https://colab.research.google.com/assets/colab-badge.svg\" alt=\"Open In Colab\"/></a>"
      ]
    },
    {
      "cell_type": "markdown",
      "metadata": {
        "id": "FmczGf9DQE9m"
      },
      "source": [
        "# Name: Nisrin Dhoondia\n",
        "\n",
        "## GitHub: https://github.com/mygoal-javadeveloper\n",
        "\n",
        "## Kaggle: https://www.kaggle.com/nisrindhoondia\n",
        "\n",
        "## My Portfolio (Github and others): https://linktr.ee/nisrindhoondia"
      ]
    },
    {
      "cell_type": "markdown",
      "metadata": {
        "id": "g3FRdjRbOgMk"
      },
      "source": [
        "# Q. 3- If x=[1,2,3,4,5,6,7,8,9,10] and y=[5,10,15,20,25,30,35,40,45,50], write a python program to find the mean squared error if linear regression model is used to plot the trendline\n",
        "\n",
        "## Case-1: Solve the above problem using inbuilt function\n",
        "\n",
        "## Case-2: Solve the above problem without using any inbuilt function"
      ]
    },
    {
      "cell_type": "code",
      "metadata": {
        "id": "peLtQnydKFWu"
      },
      "source": [
        "x=[1,2,3,4,5,6,7,8,9,10]\n",
        "y=[5,10,15,20,25,30,35,40,45,50]"
      ],
      "execution_count": 1,
      "outputs": []
    },
    {
      "cell_type": "markdown",
      "metadata": {
        "id": "wSMdCZ00RjDJ"
      },
      "source": [
        "# Case-1: Solve the above problem using train_test_split inbuilt function"
      ]
    },
    {
      "cell_type": "code",
      "metadata": {
        "id": "25D0yNibOrPD"
      },
      "source": [
        "from sklearn.model_selection import train_test_split \n",
        "import numpy as np"
      ],
      "execution_count": 2,
      "outputs": []
    },
    {
      "cell_type": "code",
      "metadata": {
        "id": "q6yx4GJ2RUKa"
      },
      "source": [
        "X_train, X_test, y_train, y_test = train_test_split(x, y, test_size=0.20, random_state= 47)"
      ],
      "execution_count": 3,
      "outputs": []
    },
    {
      "cell_type": "code",
      "metadata": {
        "colab": {
          "base_uri": "https://localhost:8080/"
        },
        "id": "kFgWjnA_01wf",
        "outputId": "6dfa3d4a-2008-4c68-9678-743b79fa3123"
      },
      "source": [
        "X_train, y_train, X_test, y_test  "
      ],
      "execution_count": 4,
      "outputs": [
        {
          "output_type": "execute_result",
          "data": {
            "text/plain": [
              "([5, 6, 4, 9, 1, 10, 7, 8], [25, 30, 20, 45, 5, 50, 35, 40], [3, 2], [15, 10])"
            ]
          },
          "metadata": {
            "tags": []
          },
          "execution_count": 4
        }
      ]
    },
    {
      "cell_type": "code",
      "metadata": {
        "colab": {
          "base_uri": "https://localhost:8080/"
        },
        "id": "sCsC11bLR_Ly",
        "outputId": "9c48c5a7-6ae3-4fdf-c0d2-4791c31aac8b"
      },
      "source": [
        "X_train = np.array(X_train, dtype=np.float64).reshape((-1, 1))\n",
        "X_train"
      ],
      "execution_count": 5,
      "outputs": [
        {
          "output_type": "execute_result",
          "data": {
            "text/plain": [
              "array([[ 5.],\n",
              "       [ 6.],\n",
              "       [ 4.],\n",
              "       [ 9.],\n",
              "       [ 1.],\n",
              "       [10.],\n",
              "       [ 7.],\n",
              "       [ 8.]])"
            ]
          },
          "metadata": {
            "tags": []
          },
          "execution_count": 5
        }
      ]
    },
    {
      "cell_type": "code",
      "metadata": {
        "colab": {
          "base_uri": "https://localhost:8080/"
        },
        "id": "FqI9A56K1jiy",
        "outputId": "20569437-552e-41df-a710-59dcbdc65430"
      },
      "source": [
        "X_train.shape"
      ],
      "execution_count": 6,
      "outputs": [
        {
          "output_type": "execute_result",
          "data": {
            "text/plain": [
              "(8, 1)"
            ]
          },
          "metadata": {
            "tags": []
          },
          "execution_count": 6
        }
      ]
    },
    {
      "cell_type": "code",
      "metadata": {
        "id": "fV38s9JBSe_W",
        "colab": {
          "base_uri": "https://localhost:8080/"
        },
        "outputId": "e25e762e-b581-41f4-c5a7-7fd7f7375c4f"
      },
      "source": [
        "y_train = np.array(y_train, dtype=np.float64)\n",
        "y_train"
      ],
      "execution_count": 7,
      "outputs": [
        {
          "output_type": "execute_result",
          "data": {
            "text/plain": [
              "array([25., 30., 20., 45.,  5., 50., 35., 40.])"
            ]
          },
          "metadata": {
            "tags": []
          },
          "execution_count": 7
        }
      ]
    },
    {
      "cell_type": "code",
      "metadata": {
        "colab": {
          "base_uri": "https://localhost:8080/"
        },
        "id": "vEMZJqk0SIG8",
        "outputId": "45fd005e-cd30-4939-ee2a-7932f85c24df"
      },
      "source": [
        "X_test = np.array(X_test, dtype=np.float64).reshape((-1, 1))\n",
        "X_test"
      ],
      "execution_count": 8,
      "outputs": [
        {
          "output_type": "execute_result",
          "data": {
            "text/plain": [
              "array([[3.],\n",
              "       [2.]])"
            ]
          },
          "metadata": {
            "tags": []
          },
          "execution_count": 8
        }
      ]
    },
    {
      "cell_type": "code",
      "metadata": {
        "colab": {
          "base_uri": "https://localhost:8080/"
        },
        "id": "cEDNhRymSYZe",
        "outputId": "90d433f5-0701-47d4-a335-983798222304"
      },
      "source": [
        "y_test = np.array(y_test, dtype=np.float64)\n",
        "y_test"
      ],
      "execution_count": 9,
      "outputs": [
        {
          "output_type": "execute_result",
          "data": {
            "text/plain": [
              "array([15., 10.])"
            ]
          },
          "metadata": {
            "tags": []
          },
          "execution_count": 9
        }
      ]
    },
    {
      "cell_type": "code",
      "metadata": {
        "colab": {
          "base_uri": "https://localhost:8080/"
        },
        "id": "tjhQaeCnw6Nh",
        "outputId": "a0c4bbe6-7905-49a7-c6ef-b8de7dcf132d"
      },
      "source": [
        "from sklearn.linear_model import LinearRegression\n",
        "model = LinearRegression()\n",
        "model.fit(X_train, y_train)"
      ],
      "execution_count": 10,
      "outputs": [
        {
          "output_type": "execute_result",
          "data": {
            "text/plain": [
              "LinearRegression(copy_X=True, fit_intercept=True, n_jobs=None, normalize=False)"
            ]
          },
          "metadata": {
            "tags": []
          },
          "execution_count": 10
        }
      ]
    },
    {
      "cell_type": "code",
      "metadata": {
        "id": "5yVqSBwHxGyz"
      },
      "source": [
        "pred = model.predict(X_test)"
      ],
      "execution_count": 11,
      "outputs": []
    },
    {
      "cell_type": "code",
      "metadata": {
        "colab": {
          "base_uri": "https://localhost:8080/"
        },
        "id": "bfDzKgdo0Vj5",
        "outputId": "44c4461c-d3c4-4212-abbe-f3914a64ebc0"
      },
      "source": [
        "pred"
      ],
      "execution_count": 12,
      "outputs": [
        {
          "output_type": "execute_result",
          "data": {
            "text/plain": [
              "array([15., 10.])"
            ]
          },
          "metadata": {
            "tags": []
          },
          "execution_count": 12
        }
      ]
    },
    {
      "cell_type": "code",
      "metadata": {
        "colab": {
          "base_uri": "https://localhost:8080/"
        },
        "id": "oVmBp5ksxNXu",
        "outputId": "bd94f061-679e-4bae-c398-6f9342a99d10"
      },
      "source": [
        "from sklearn.metrics import mean_squared_error\n",
        "print('MSE:')\n",
        "print(mean_squared_error(y_test, pred))"
      ],
      "execution_count": 13,
      "outputs": [
        {
          "output_type": "stream",
          "text": [
            "MSE:\n",
            "0.0\n"
          ],
          "name": "stdout"
        }
      ]
    },
    {
      "cell_type": "markdown",
      "metadata": {
        "id": "wLvKnqD_Shx3"
      },
      "source": [
        "# Case-2: Solve the above problem without using any inbuilt function"
      ]
    },
    {
      "cell_type": "code",
      "metadata": {
        "colab": {
          "base_uri": "https://localhost:8080/"
        },
        "id": "rVFOR3Bxpvq1",
        "outputId": "fc3cfc61-0fff-4e29-c37a-7a2863c89cfc"
      },
      "source": [
        "sum = 0 \n",
        "for i in range(len(y_test)):\n",
        "  squareddiff = ((y_test[i] - pred[i]) ** 2)\n",
        "  sum = sum + squareddiff\n",
        "mse_cal = sum / len(y_test)\n",
        "print('MSE:')\n",
        "print(mse_cal)"
      ],
      "execution_count": 14,
      "outputs": [
        {
          "output_type": "stream",
          "text": [
            "MSE:\n",
            "0.0\n"
          ],
          "name": "stdout"
        }
      ]
    }
  ]
}